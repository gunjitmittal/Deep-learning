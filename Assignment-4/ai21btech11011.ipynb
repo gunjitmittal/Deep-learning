{
 "cells": [
  {
   "attachments": {},
   "cell_type": "markdown",
   "metadata": {},
   "source": [
    "# Assignment-4 Deep Learning AI2100\n",
    "\n",
    "## Name-Gunjit Mittal     Roll No.-AI21BTECH11011"
   ]
  },
  {
   "cell_type": "code",
   "execution_count": 97,
   "metadata": {},
   "outputs": [],
   "source": [
    "# Importing the required libraries\n",
    "import matplotlib.pyplot as plt\n",
    "import numpy as np\n",
    "import torch"
   ]
  },
  {
   "attachments": {},
   "cell_type": "markdown",
   "metadata": {},
   "source": [
    "## Creating dataset"
   ]
  },
  {
   "cell_type": "code",
   "execution_count": 98,
   "metadata": {},
   "outputs": [],
   "source": [
    "torch.manual_seed(7)\n",
    "np.random.seed(1)\n",
    "sample_size = 5500\n",
    "def gen_sample():\n",
    "    sample_length = np.random.randint(2,10)\n",
    "    x1 = np.random.rand(sample_length)\n",
    "    x2 = np.zeros(sample_length)\n",
    "    x2[0:2] = 1\n",
    "    np.random.shuffle(x2)\n",
    "    x = np.vstack((x1, x2))\n",
    "    y = x1@x2\n",
    "    return x, y\n",
    "X = np.empty(sample_size, dtype=object)\n",
    "Y = np.empty(sample_size)\n",
    "for i in range(sample_size):\n",
    "    x, y = gen_sample()\n",
    "    X[i] = x\n",
    "    Y[i] = y\n",
    "X = np.array(X)\n",
    "Y = torch.tensor(Y)"
   ]
  },
  {
   "attachments": {},
   "cell_type": "markdown",
   "metadata": {},
   "source": [
    "## Elmon Network"
   ]
  },
  {
   "cell_type": "code",
   "execution_count": 99,
   "metadata": {},
   "outputs": [],
   "source": [
    "class Elmon(torch.nn.Module):\n",
    "    \"\"\" Elmon model for the task of summing up the product of two vectors \"\"\"\n",
    "    def __init__(self):\n",
    "        super().__init__()\n",
    "        self.h = (torch.zeros((4, 1), dtype=torch.double))\n",
    "        self.u = torch.nn.Parameter(torch.randn((4, 2), dtype=torch.double))\n",
    "        self.v = torch.nn.Parameter(torch.randn((1, 4), dtype=torch.double))\n",
    "        self.w = torch.nn.Parameter(torch.randn((4, 4), dtype=torch.double))\n",
    "        self.bx = torch.nn.Parameter(torch.zeros((4, 1), dtype=torch.double))\n",
    "        self.by = torch.nn.Parameter(torch.zeros((1, 1), dtype=torch.double))\n",
    "        self.double()\n",
    "    \n",
    "    def forward(self,input):\n",
    "        H = self.h\n",
    "        for i in range(input.shape[1]):\n",
    "            x = input[:,i].reshape(2,1)\n",
    "            H = torch.tanh(self.u@x + self.w@H + self.bx)\n",
    "        return torch.relu(self.v@H+ self.by)"
   ]
  },
  {
   "cell_type": "code",
   "execution_count": 100,
   "metadata": {},
   "outputs": [
    {
     "name": "stdout",
     "output_type": "stream",
     "text": [
      "Epoch: 1/15 Loss: 0.2185\n",
      "Epoch: 2/15 Loss: 0.1163\n",
      "Epoch: 3/15 Loss: 0.1005\n",
      "Epoch: 4/15 Loss: 0.0721\n",
      "Epoch: 5/15 Loss: 0.0240\n",
      "Epoch: 6/15 Loss: 0.0105\n",
      "Epoch: 7/15 Loss: 0.0069\n",
      "Epoch: 8/15 Loss: 0.0053\n",
      "Epoch: 9/15 Loss: 0.0044\n",
      "Epoch: 10/15 Loss: 0.0038\n",
      "Epoch: 11/15 Loss: 0.0034\n",
      "Epoch: 12/15 Loss: 0.0030\n",
      "Epoch: 13/15 Loss: 0.0028\n",
      "Epoch: 14/15 Loss: 0.0026\n",
      "Epoch: 15/15 Loss: 0.0024\n"
     ]
    }
   ],
   "source": [
    "elmon = Elmon()\n",
    "optimizer1 = torch.optim.SGD(elmon.parameters(), lr=0.01) # Stochastic Gradient Descent\n",
    "criterion = torch.nn.MSELoss() # Mean Squared Error\n",
    "n_epochs = 15 # Number of epochs\n",
    "Elmon_loss = np.empty(n_epochs)\n",
    "\n",
    "for epoch in range(1, n_epochs + 1):\n",
    "    epoch_loss = 0\n",
    "    for i in range(sample_size):\n",
    "        optimizer1.zero_grad() # Clears existing gradients from previous epoch\n",
    "        input = torch.tensor(X[i], dtype=torch.double)\n",
    "        output = elmon(input)\n",
    "        loss = criterion(output, Y[i].reshape(1,1)) # Calculates loss\n",
    "        epoch_loss += loss.item()\n",
    "        loss.backward() # Does backpropagation and calculates gradients\n",
    "        optimizer1.step() # Updates the weights accordingly\n",
    "    Elmon_loss[epoch-1] = epoch_loss/sample_size\n",
    "    print('Epoch: {}/{}'.format(epoch, n_epochs), end=' ')\n",
    "    print(\"Loss: {:.4f}\".format(epoch_loss/sample_size))"
   ]
  },
  {
   "attachments": {},
   "cell_type": "markdown",
   "metadata": {},
   "source": [
    "## Long Short Term Memory (LSTM)"
   ]
  },
  {
   "cell_type": "code",
   "execution_count": 101,
   "metadata": {},
   "outputs": [],
   "source": [
    "class LSTM(torch.nn.Module):\n",
    "    \"\"\" LSTM model for the task of summing up the product of two vectors \"\"\"\n",
    "    def __init__(self):\n",
    "        super().__init__()\n",
    "        self.h = (torch.zeros((4, 1), dtype=torch.double))\n",
    "        self.c = (torch.zeros((4, 1), dtype=torch.double))\n",
    "        self.v = torch.nn.Parameter(torch.randn((1, 4), dtype=torch.double))\n",
    "        self.wf = torch.nn.Parameter(torch.randn((4, 6), dtype=torch.double))\n",
    "        self.wi = torch.nn.Parameter(torch.randn((4, 6), dtype=torch.double))\n",
    "        self.wc = torch.nn.Parameter(torch.randn((4, 6), dtype=torch.double))\n",
    "        self.wo = torch.nn.Parameter(torch.randn((4, 6), dtype=torch.double))\n",
    "        self.bi = torch.nn.Parameter(torch.zeros((4, 1), dtype=torch.double))\n",
    "        self.bf = torch.nn.Parameter(torch.zeros((4, 1), dtype=torch.double))\n",
    "        self.bc = torch.nn.Parameter(torch.zeros((4, 1), dtype=torch.double))\n",
    "        self.bo = torch.nn.Parameter(torch.zeros((4, 1), dtype=torch.double))\n",
    "        self.by = torch.nn.Parameter(torch.zeros((1, 1), dtype=torch.double))\n",
    "        self.double()\n",
    "    \n",
    "    def forward(self, input):\n",
    "        H = self.h.clone()\n",
    "        C = self.c.clone()\n",
    "        for i in range(input.shape[1]):\n",
    "            x = input[:,i].reshape(2,1)\n",
    "            sel_read = torch.sigmoid(self.wf@torch.cat((x,H),dim=0) + self.bf)\n",
    "            sel_write = torch.sigmoid(self.wi@torch.cat((x,H),dim=0) + self.bi)\n",
    "            c_temp = torch.tanh(self.wc@torch.cat((x,H),dim=0) + self.bc)\n",
    "            C = sel_read*C + sel_write*c_temp\n",
    "            sel_out = torch.sigmoid(self.wo@torch.cat((x,H),dim=0) + self.bo)\n",
    "            H = sel_out*torch.tanh(C)\n",
    "        return torch.relu(self.v@H+ self.by)\n",
    "        "
   ]
  },
  {
   "cell_type": "code",
   "execution_count": 102,
   "metadata": {},
   "outputs": [
    {
     "name": "stdout",
     "output_type": "stream",
     "text": [
      "Epoch: 1/15 Loss: 0.0859\n",
      "Epoch: 2/15 Loss: 0.0267\n",
      "Epoch: 3/15 Loss: 0.0138\n",
      "Epoch: 4/15 Loss: 0.0094\n",
      "Epoch: 5/15 Loss: 0.0075\n",
      "Epoch: 6/15 Loss: 0.0064\n",
      "Epoch: 7/15 Loss: 0.0057\n",
      "Epoch: 8/15 Loss: 0.0052\n",
      "Epoch: 9/15 Loss: 0.0047\n",
      "Epoch: 10/15 Loss: 0.0044\n",
      "Epoch: 11/15 Loss: 0.0041\n",
      "Epoch: 12/15 Loss: 0.0038\n",
      "Epoch: 13/15 Loss: 0.0036\n",
      "Epoch: 14/15 Loss: 0.0033\n",
      "Epoch: 15/15 Loss: 0.0031\n"
     ]
    }
   ],
   "source": [
    "lstm = LSTM()\n",
    "optimizer2 = torch.optim.SGD(lstm.parameters(), lr=0.01)\n",
    "criterion2 = torch.nn.MSELoss()\n",
    "LSTM_loss = np.empty(n_epochs)\n",
    "\n",
    "for epoch in range(1, n_epochs + 1):\n",
    "    epoch_loss = 0\n",
    "    for i in range(sample_size):\n",
    "        optimizer2.zero_grad() # Clears existing gradients from previous epoch\n",
    "        input = torch.tensor(X[i], dtype=torch.double)\n",
    "        output = lstm(input)\n",
    "        loss2 = criterion2(output, Y[i].reshape(1,1)) # Calculates loss\n",
    "        epoch_loss += loss2.item()\n",
    "        loss2.backward() # Does backpropagation and calculates gradients\n",
    "        optimizer2.step() # Updates the weights accordingly\n",
    "    LSTM_loss[epoch-1] = epoch_loss/sample_size\n",
    "    print('Epoch: {}/{}'.format(epoch, n_epochs), end=' ')\n",
    "    print(\"Loss: {:.4f}\".format(epoch_loss/sample_size))"
   ]
  },
  {
   "attachments": {},
   "cell_type": "markdown",
   "metadata": {},
   "source": [
    "## Gated Reccurent Unit (GRU)"
   ]
  },
  {
   "cell_type": "code",
   "execution_count": 103,
   "metadata": {},
   "outputs": [],
   "source": [
    "class GRU(torch.nn.Module):\n",
    "    \"\"\" GRU model for the task of summing up the product of two vectors \"\"\"\n",
    "    def __init__(self):\n",
    "        super().__init__()\n",
    "        self.h = (torch.zeros((4, 1), dtype=torch.double))\n",
    "        self.v = torch.nn.Parameter(torch.randn((1, 4), dtype=torch.double))\n",
    "        self.wz = torch.nn.Parameter(torch.randn((4, 6), dtype=torch.double))\n",
    "        self.wr = torch.nn.Parameter(torch.randn((4, 6), dtype=torch.double))\n",
    "        self.wh = torch.nn.Parameter(torch.randn((4, 6), dtype=torch.double))\n",
    "        self.bz = torch.nn.Parameter(torch.zeros((4, 1), dtype=torch.double))\n",
    "        self.br = torch.nn.Parameter(torch.zeros((4, 1), dtype=torch.double))\n",
    "        self.bh = torch.nn.Parameter(torch.zeros((4, 1), dtype=torch.double))\n",
    "        self.by = torch.nn.Parameter(torch.zeros((1, 1), dtype=torch.double))\n",
    "        self.double()\n",
    "    \n",
    "    def forward(self, input):\n",
    "        H = self.h.clone()\n",
    "        for i in range(input.shape[1]):\n",
    "            x = input[:,i].reshape(2,1)\n",
    "            z = torch.sigmoid(self.wz@torch.cat((x,H),dim=0) + self.bz)\n",
    "            r = torch.sigmoid(self.wr@torch.cat((x,H),dim=0) + self.br)\n",
    "            h_temp = torch.tanh(self.wh@torch.cat((x,r*H),dim=0) + self.bh)\n",
    "            H = (1-z)*H + z*h_temp\n",
    "        return torch.relu(self.v@H+ self.by)\n",
    "        "
   ]
  },
  {
   "cell_type": "code",
   "execution_count": 104,
   "metadata": {},
   "outputs": [
    {
     "name": "stdout",
     "output_type": "stream",
     "text": [
      "Epoch: 1/15 Loss: 0.0667\n",
      "Epoch: 2/15 Loss: 0.0144\n",
      "Epoch: 3/15 Loss: 0.0085\n",
      "Epoch: 4/15 Loss: 0.0058\n",
      "Epoch: 5/15 Loss: 0.0043\n",
      "Epoch: 6/15 Loss: 0.0033\n",
      "Epoch: 7/15 Loss: 0.0026\n",
      "Epoch: 8/15 Loss: 0.0021\n",
      "Epoch: 9/15 Loss: 0.0017\n",
      "Epoch: 10/15 Loss: 0.0015\n",
      "Epoch: 11/15 Loss: 0.0013\n",
      "Epoch: 12/15 Loss: 0.0012\n",
      "Epoch: 13/15 Loss: 0.0011\n",
      "Epoch: 14/15 Loss: 0.0010\n",
      "Epoch: 15/15 Loss: 0.0009\n"
     ]
    }
   ],
   "source": [
    "gru = GRU()\n",
    "optimizer3 = torch.optim.SGD(gru.parameters(), lr=0.01) # Stochastic Gradient Descent\n",
    "criterion3 = torch.nn.MSELoss() # Mean Squared Error\n",
    "GRU_loss = np.empty(n_epochs)\n",
    "for epoch in range(1, n_epochs + 1):\n",
    "    epoch_loss = 0\n",
    "    for i in range(sample_size):\n",
    "        optimizer3.zero_grad() # Clears existing gradients from previous epoch\n",
    "        input = torch.tensor(X[i], dtype=torch.double)\n",
    "        output = gru(input)\n",
    "        loss3 = criterion3(output, Y[i].reshape(1,1)) # Calculates loss\n",
    "        epoch_loss += loss3.item()\n",
    "        loss3.backward() # Does backpropagation and calculates gradients\n",
    "        # print(gru.wz)\n",
    "        optimizer3.step() # Updates the weights accordingly\n",
    "    GRU_loss[epoch-1] = epoch_loss/sample_size\n",
    "    print('Epoch: {}/{}'.format(epoch, n_epochs), end=' ')\n",
    "    print(\"Loss: {:.4f}\".format(epoch_loss/sample_size))"
   ]
  },
  {
   "cell_type": "code",
   "execution_count": 105,
   "metadata": {},
   "outputs": [
    {
     "data": {
      "image/png": "[encoded data removed]",
      "text/plain": [
       "<Figure size 640x480 with 1 Axes>"
      ]
     },
     "metadata": {},
     "output_type": "display_data"
    }
   ],
   "source": [
    "# Plotting the loss and comparing with baseline loss\n",
    "base_line_loss = criterion3(torch.ones(sample_size), Y).item() # Baseline loss\n",
    "\n",
    "plt.plot(GRU_loss, label='GRU Training Loss')\n",
    "plt.plot(LSTM_loss, label='LSTM Training Loss')\n",
    "plt.plot(Elmon_loss, label='Elmon Training Loss')\n",
    "plt.axhline(y=base_line_loss, color='r', linestyle='-', label='Baseline Loss')\n",
    "plt.legend()\n",
    "plt.show()"
   ]
  },
  {
   "attachments": {},
   "cell_type": "markdown",
   "metadata": {},
   "source": [
    "## Creating test dataset"
   ]
  },
  {
   "cell_type": "code",
   "execution_count": 106,
   "metadata": {},
   "outputs": [],
   "source": [
    "test_sample_size = 1000\n",
    "test_X = np.empty(test_sample_size, dtype=object)\n",
    "test_Y = np.empty(test_sample_size)\n",
    "for i in range(test_sample_size):\n",
    "    x, y = gen_sample()\n",
    "    test_X[i] = x\n",
    "    test_Y[i] = y\n",
    "test_X = np.array(test_X)\n",
    "test_Y = torch.tensor(test_Y)"
   ]
  },
  {
   "attachments": {},
   "cell_type": "markdown",
   "metadata": {},
   "source": [
    "## Comparing the Performace of the models"
   ]
  },
  {
   "cell_type": "code",
   "execution_count": 107,
   "metadata": {},
   "outputs": [
    {
     "data": {
      "image/png": "[encoded data removed]",
      "text/plain": [
       "<Figure size 640x480 with 1 Axes>"
      ]
     },
     "metadata": {},
     "output_type": "display_data"
    }
   ],
   "source": [
    "test_criterion = torch.nn.MSELoss() # Mean Squared Error\n",
    "\n",
    "elmon_output = np.empty(test_sample_size) \n",
    "for i in range(test_sample_size):\n",
    "    elmon_output[i] = elmon(torch.tensor(test_X[i]))\n",
    "elmon_test_loss = test_criterion(torch.tensor(elmon_output), test_Y).item()\n",
    "\n",
    "lstm_output = np.empty(test_sample_size)\n",
    "for i in range(test_sample_size):\n",
    "    lstm_output[i] = lstm(torch.tensor(test_X[i]))\n",
    "lstm_test_loss = test_criterion(torch.tensor(lstm_output), test_Y).item()\n",
    "\n",
    "gru_output = np.empty(test_sample_size)\n",
    "for i in range(test_sample_size):\n",
    "    gru_output[i] = gru(torch.tensor(test_X[i]))\n",
    "gru_test_loss = test_criterion(torch.tensor(gru_output), test_Y).item()\n",
    "\n",
    "plt.bar(['Elmon', 'LSTM', 'GRU'], [elmon_test_loss, lstm_test_loss, gru_test_loss], color='blue') # Plotting the test loss\n",
    "plt.bar(['Elmon', 'LSTM', 'GRU'], [Elmon_loss[-1], LSTM_loss[-1], GRU_loss[-1]], alpha=0.5, color='red') # Plotting the training loss\n",
    "plt.show()"
   ]
  },
  {
   "attachments": {},
   "cell_type": "markdown",
   "metadata": {},
   "source": [
    "The dark pink area is obtained by the intersection of training and test loss while the light pink area is the training loss. "
   ]
  }
 ],
 "metadata": {
  "kernelspec": {
   "display_name": "torch",
   "language": "python",
   "name": "torch"
  },
  "language_info": {
   "codemirror_mode": {
    "name": "ipython",
    "version": 3
   },
   "file_extension": ".py",
   "mimetype": "text/x-python",
   "name": "python",
   "nbconvert_exporter": "python",
   "pygments_lexer": "ipython3",
   "version": "3.10.6"
  },
  "orig_nbformat": 4
 },
 "nbformat": 4,
 "nbformat_minor": 2
}
